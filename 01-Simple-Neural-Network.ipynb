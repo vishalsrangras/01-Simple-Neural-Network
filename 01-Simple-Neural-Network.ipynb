{
 "cells": [
  {
   "cell_type": "code",
   "execution_count": 1,
   "metadata": {},
   "outputs": [],
   "source": [
    "from neural_network import Neural_Network\n",
    "import numpy as np\n",
    "import matplotlib.pyplot as plt"
   ]
  },
  {
   "cell_type": "code",
   "execution_count": null,
   "metadata": {
    "collapsed": true
   },
   "outputs": [],
   "source": [
    "def sigmoid(z):\n",
    "    return 1/(1+np.exp(-z))"
   ]
  },
  {
   "cell_type": "code",
   "execution_count": null,
   "metadata": {},
   "outputs": [],
   "source": [
    "testInput = np.arange(-6, 6, 0.01)\n",
    "plt.plot (testInput, sigmoid(testInput), linewidth=2)\n",
    "plt.grid(1)\n",
    "plt.show()"
   ]
  },
  {
   "cell_type": "code",
   "execution_count": 2,
   "metadata": {},
   "outputs": [
    {
     "name": "stdout",
     "output_type": "stream",
     "text": [
      "Input (X): \n",
      "[[  3.   5.]\n",
      " [  5.   1.]\n",
      " [ 10.   2.]]\n",
      "Output (y):\n",
      "[[ 75.]\n",
      " [ 82.]\n",
      " [ 93.]]\n"
     ]
    }
   ],
   "source": [
    "X = np.array(([3, 5], [5, 1], [10, 2]), dtype=float)\n",
    "y = np.array(([75],[82],[93]), dtype=float)\n",
    "print(\"Input (X): \")\n",
    "print(X)\n",
    "print(\"Output (y):\")\n",
    "print(y)"
   ]
  },
  {
   "cell_type": "code",
   "execution_count": null,
   "metadata": {},
   "outputs": [],
   "source": [
    "X = X/np.amax(X, axis=0)\n",
    "y = y/100\n",
    "\n",
    "print(\"Normalized Input (X): \")\n",
    "print(X)\n",
    "print(\"Normalized Output (y):\")\n",
    "print(y)"
   ]
  },
  {
   "cell_type": "code",
   "execution_count": null,
   "metadata": {},
   "outputs": [],
   "source": [
    "NN = Neural_Network()\n",
    "yHat = NN.forward(X)\n",
    "print(\"Estimated Output (yHat) :\")\n",
    "print(yHat)"
   ]
  }
 ],
 "metadata": {
  "kernelspec": {
   "display_name": "Python 3",
   "language": "python",
   "name": "python3"
  },
  "language_info": {
   "codemirror_mode": {
    "name": "ipython",
    "version": 3
   },
   "file_extension": ".py",
   "mimetype": "text/x-python",
   "name": "python",
   "nbconvert_exporter": "python",
   "pygments_lexer": "ipython3",
   "version": "3.5.2"
  },
  "widgets": {
   "state": {},
   "version": "1.1.2"
  }
 },
 "nbformat": 4,
 "nbformat_minor": 2
}
