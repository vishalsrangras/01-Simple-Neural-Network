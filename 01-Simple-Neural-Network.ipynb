{
 "cells": [
  {
   "cell_type": "code",
   "execution_count": 1,
   "metadata": {
    "collapsed": true
   },
   "outputs": [],
   "source": [
    "import numpy as np\n",
    "import matplotlib.pyplot as plt"
   ]
  },
  {
   "cell_type": "markdown",
   "metadata": {},
   "source": [
    "| Study Hours | Sleeping Hours | Test Score |\n",
    "|-------------|----------------|------------|\n",
    "| 8 | 6 | 75 |\n",
    "| 6 | 8 | 68 |\n",
    "| 3 | 8 | 55 |\n",
    "| 5 | 5 | 63 |\n",
    "| 10 | 7 | 93 |"
   ]
  },
  {
   "cell_type": "code",
   "execution_count": 2,
   "metadata": {},
   "outputs": [],
   "source": [
    "study_hours = np.array(([8], [6], [3], [5], [10]), dtype=float)\n",
    "sleeping_hours = np.array(([6],[8],[8], [5], [7]), dtype=float)\n",
    "test_score = np.array(([75], [68], [55], [63], [93]), dtype=float)"
   ]
  },
  {
   "cell_type": "code",
   "execution_count": 3,
   "metadata": {},
   "outputs": [
    {
     "data": {
      "image/png": "[encoded data removed]",
      "text/plain": [
       "<matplotlib.figure.Figure at 0x7a26fd0>"
      ]
     },
     "metadata": {},
     "output_type": "display_data"
    }
   ],
   "source": [
    "plt.plot (study_hours, test_score, linewidth=2)\n",
    "plt.grid(1)\n",
    "plt.show()"
   ]
  },
  {
   "cell_type": "code",
   "execution_count": 4,
   "metadata": {},
   "outputs": [
    {
     "data": {
      "image/png": "[encoded data removed]",
      "text/plain": [
       "<matplotlib.figure.Figure at 0x7c25a90>"
      ]
     },
     "metadata": {},
     "output_type": "display_data"
    }
   ],
   "source": [
    "plt.plot (sleeping_hours, test_score, linewidth=2)\n",
    "plt.grid(1)\n",
    "plt.show()"
   ]
  },
  {
   "cell_type": "code",
   "execution_count": 5,
   "metadata": {},
   "outputs": [],
   "source": [
    "# Input Data Vector (Features)\n",
    "X = np.array(([8, 6],[6, 8],[3, 8], [5, 5], [10, 7]), dtype=float)\n",
    "\n",
    "# Output Data Vector (Labels)\n",
    "y = np.array(([75], [68], [55], [63], [93]), dtype=float)"
   ]
  },
  {
   "cell_type": "code",
   "execution_count": 6,
   "metadata": {
    "collapsed": true
   },
   "outputs": [],
   "source": [
    "# Data Normalization\n",
    "X_norm = X / np.max(X)\n",
    "y_norm = y / 100"
   ]
  },
  {
   "cell_type": "code",
   "execution_count": 7,
   "metadata": {},
   "outputs": [
    {
     "name": "stdout",
     "output_type": "stream",
     "text": [
      "Feature Vector is:\n",
      "[[  8.   6.]\n",
      " [  6.   8.]\n",
      " [  3.   8.]\n",
      " [  5.   5.]\n",
      " [ 10.   7.]]\n",
      "Label Vector is:\n",
      "[[ 75.]\n",
      " [ 68.]\n",
      " [ 55.]\n",
      " [ 63.]\n",
      " [ 93.]]\n",
      "Normalized Feature Vector is:\n",
      "[[ 0.8  0.6]\n",
      " [ 0.6  0.8]\n",
      " [ 0.3  0.8]\n",
      " [ 0.5  0.5]\n",
      " [ 1.   0.7]]\n",
      "Normalized Label Vector is:\n",
      "[[ 0.75]\n",
      " [ 0.68]\n",
      " [ 0.55]\n",
      " [ 0.63]\n",
      " [ 0.93]]\n"
     ]
    }
   ],
   "source": [
    "print(\"Feature Vector is:\")\n",
    "print(X)\n",
    "print(\"Label Vector is:\")\n",
    "print(y)\n",
    "print(\"Normalized Feature Vector is:\")\n",
    "print(X_norm)\n",
    "print(\"Normalized Label Vector is:\")\n",
    "print(y_norm)\n"
   ]
  },
  {
   "cell_type": "code",
   "execution_count": 8,
   "metadata": {
    "collapsed": true
   },
   "outputs": [],
   "source": [
    "class Neural_Network(object):\n",
    "    \n",
    "    #The init method in python is like a constructor in Java\n",
    "    def __init__(self):\n",
    "        \n",
    "        #Define Hyper-Parameters\n",
    "        self.inputLayerSize = 2\n",
    "        self.hiddenLayerSize = 3\n",
    "        self.outputLayerSize = 1\n",
    "        \n",
    "        #Weights Parameters\n",
    "        self.W1 = np.random.randn(self.inputLayerSize, self.hiddenLayerSize)\n",
    "        self.W2 = np.random.randn(self.hiddenLayerSize, self.outputLayerSize)\n",
    "        \n",
    "    def forward(self, X):\n",
    "        #Propagate inputs through network\n",
    "        self.z2 = np.dot(X, self.W1)\n",
    "        self.a2 = self.sigmoid(self.z2)\n",
    "        self.z3 = np.dot(self.a2, self.W2)\n",
    "        yHat = self.sigmoid(self.z3)\n",
    "        return yHat\n",
    "    \n",
    "    def sigmoid(self, z):\n",
    "        #Apply sigmoid activation function to scalar, vector or matrix\n",
    "        return 1 / (1+np.exp(-z))"
   ]
  },
  {
   "cell_type": "code",
   "execution_count": 9,
   "metadata": {},
   "outputs": [],
   "source": [
    "NN1 = Neural_Network()\n",
    "NN2 = Neural_Network()\n",
    "\n",
    "yHat1 = NN1.forward(X)\n",
    "yHat2 = NN2.forward(X)"
   ]
  },
  {
   "cell_type": "code",
   "execution_count": 10,
   "metadata": {},
   "outputs": [
    {
     "name": "stdout",
     "output_type": "stream",
     "text": [
      "Correct normalized output is:\n",
      "[[ 0.75]\n",
      " [ 0.68]\n",
      " [ 0.55]\n",
      " [ 0.63]\n",
      " [ 0.93]]\n",
      "Estimated output from NN1 is:\n",
      "[[ 0.47614761]\n",
      " [ 0.48249346]\n",
      " [ 0.47663924]\n",
      " [ 0.46050734]\n",
      " [ 0.48425526]]\n",
      "Estimated output from NN2 is:\n",
      "[[ 0.38138032]\n",
      " [ 0.36993795]\n",
      " [ 0.38069572]\n",
      " [ 0.40079358]\n",
      " [ 0.36556867]]\n",
      "W1 for NN1 is:\n",
      "[[-0.40224997 -0.58761545 -0.09144047]\n",
      " [-2.06794682 -0.51578253 -0.26145433]]\n",
      "W1 for NN2 is:\n",
      "[[-0.20922587  0.06842819  0.07986648]\n",
      " [-2.1971041  -0.04803573 -0.42926743]]\n",
      "W2 for NN1 is:\n",
      "[[-0.20010326]\n",
      " [-1.50785921]\n",
      " [-1.04126632]]\n",
      "W2 for NN2 is:\n",
      "[[ 0.0919664 ]\n",
      " [-1.20234282]\n",
      " [ 1.54712834]]\n"
     ]
    }
   ],
   "source": [
    "print (\"Correct normalized output is:\")\n",
    "print(y_norm)\n",
    "\n",
    "print (\"Estimated output from NN1 is:\")\n",
    "print(yHat1)\n",
    "\n",
    "print (\"Estimated output from NN2 is:\")\n",
    "print(yHat2)\n",
    "\n",
    "print (\"W1 for NN1 is:\")\n",
    "print(NN1.W1)\n",
    "print (\"W1 for NN2 is:\")\n",
    "print(NN2.W1)\n",
    "\n",
    "print (\"W2 for NN1 is:\")\n",
    "print(NN1.W2)\n",
    "print (\"W2 for NN2 is:\")\n",
    "print(NN2.W2)"
   ]
  },
  {
   "cell_type": "code",
   "execution_count": null,
   "metadata": {
    "collapsed": true
   },
   "outputs": [],
   "source": []
  }
 ],
 "metadata": {
  "kernelspec": {
   "display_name": "Python 3",
   "language": "python",
   "name": "python3"
  },
  "language_info": {
   "codemirror_mode": {
    "name": "ipython",
    "version": 3
   },
   "file_extension": ".py",
   "mimetype": "text/x-python",
   "name": "python",
   "nbconvert_exporter": "python",
   "pygments_lexer": "ipython3",
   "version": "3.5.2"
  },
  "widgets": {
   "state": {},
   "version": "1.1.2"
  }
 },
 "nbformat": 4,
 "nbformat_minor": 2
}
